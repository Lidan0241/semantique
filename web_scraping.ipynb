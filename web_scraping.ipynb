{
 "cells": [
  {
   "cell_type": "code",
   "execution_count": 1,
   "id": "a8891252",
   "metadata": {},
   "outputs": [],
   "source": [
    "import requests\n",
    "from bs4 import BeautifulSoup\n",
    "import csv\n",
    "\n",
    "# Charger les URLs depuis le fichier\n",
    "with open(\"./urls_en.txt\", \"r\") as f:\n",
    "    urls = [line.strip() for line in f.readlines() if line.strip()]\n",
    "\n",
    "# Fichier de sortie\n",
    "output_file = \"./scraped_data.csv\""
   ]
  },
  {
   "cell_type": "code",
   "execution_count": 2,
   "id": "c38c90ad",
   "metadata": {},
   "outputs": [],
   "source": [
    "# Fonction pour extraire les informations d'une page\n",
    "def scrape_page(url):\n",
    "    try:\n",
    "        response = requests.get(url, timeout=10)\n",
    "        response.raise_for_status()\n",
    "        soup = BeautifulSoup(response.text, \"html.parser\")\n",
    "\n",
    "        # Extraire le titre\n",
    "        title = soup.find(\"title\").text.strip() if soup.find(\"title\") else \"N/A\"\n",
    "\n",
    "        # Extraire la date (souvent dans un tag time ou meta)\n",
    "        date = \"N/A\"\n",
    "        if soup.find(\"time\"):\n",
    "            date = soup.find(\"time\").text.strip()\n",
    "        elif soup.find(\"meta\", {\"name\": \"date\"}):\n",
    "            date = soup.find(\"meta\", {\"name\": \"date\"})[\"content\"]\n",
    "\n",
    "        # Extraire le contenu principal\n",
    "        content = \"N/A\"\n",
    "        main_content = soup.find(\"div\", {\"class\": \"entry-content\"}) or soup.find(\"article\") or soup.find(\"body\")\n",
    "        if main_content:\n",
    "            content = \" \".join(p.text.strip() for p in main_content.find_all(\"p\") if p.text.strip())\n",
    "\n",
    "        return [title, date, url, content]\n",
    "\n",
    "    except Exception as e:\n",
    "        print(f\"Erreur lors du scraping de {url}: {e}\")\n",
    "        return [\"Erreur\", \"N/A\", url, \"N/A\"]"
   ]
  },
  {
   "cell_type": "code",
   "execution_count": 3,
   "id": "34fa29ca",
   "metadata": {},
   "outputs": [
    {
     "name": "stdout",
     "output_type": "stream",
     "text": [
      "Scraping: https://www.state.gov/designation-of-international-cartels/\n",
      "Scraping: https://www.state.gov/sanctioning-entities-that-have-traded-in-irans-petroleum/\n",
      "Scraping: https://www.state.gov/sanctioning-service-providers-that-facilitate-irans-crude-oil-trade/\n",
      "Scraping: https://www.state.gov/on-the-presidents-action-to-protect-americans-from-dangerous-foreign-gang-members/\n",
      "Scraping: https://www.state.gov/congratulations-to-the-belizean-people-on-their-democratic-election/\n",
      "Scraping: https://www.state.gov/announcement-of-a-visa-restriction-policy-to-address-the-forced-return-of-uyghurs-and-members-of-other-ethnic-or-religious-groups-with-protection-concerns-to-china/\n",
      "Scraping: https://www.state.gov/priorities-and-mission-of-the-second-trump-administrations-department-of-state/\n",
      "Scraping: https://www.state.gov/united-states-renewed-membership-in-the-geneva-consensus-declaration-on-promoting-womens-health-and-strengthening-the-family/\n",
      "Scraping: https://www.state.gov/statement-of-the-g7-foreign-ministers-meeting-in-charlevoix/\n",
      "Scraping: https://www.state.gov/ambassador-murrays-travel-to-the-republic-of-korea-for-the-first-apec-senior-officials-meeting/\n",
      "Scraping: https://www.state.gov/joint-statement-on-the-trilateral-united-states-japan-republic-of-korea-meeting-in-munich/\n",
      "Scraping: https://www.state.gov/secretary-rubio-authorizes-visa-restrictions-on-colombian-government-officials-and-their-immediate-family-members/\n",
      "Scraping: https://www.state.gov/secretary-of-state-designate-marco-rubio-with-gayle-king-tony-dokoupil-and-nate-burleson-of-cbs-morning/\n",
      "Scraping: https://www.state.gov/secretary-of-state-designate-marco-rubio-with-george-stephanopoulos-of-good-morning-america/\n",
      "Scraping: https://www.state.gov/secretary-rubios-call-with-russian-foreign-minister-lavrov-3/\n",
      "Scraping: https://www.state.gov/secretary-rubios-meeting-with-australian-minister-for-foreign-affairs-wong/\n",
      "Scraping: https://www.state.gov/secretary-rubios-call-with-philippine-secretary-of-foreign-affairs-manalo/\n",
      "Données enregistrées dans ./scraped_data.csv\n"
     ]
    }
   ],
   "source": [
    "# Scraper chaque URL et stocker les résultats\n",
    "data = [[\"Title\", \"Date\", \"URL\", \"Content\"]]\n",
    "for url in urls:\n",
    "    print(f\"Scraping: {url}\")\n",
    "    data.append(scrape_page(url))\n",
    "\n",
    "# Sauvegarde dans un fichier CSV\n",
    "with open(output_file, \"w\", newline=\"\", encoding=\"utf-8\") as f:\n",
    "    writer = csv.writer(f)\n",
    "    writer.writerows(data)\n",
    "\n",
    "print(f\"Données enregistrées dans {output_file}\")"
   ]
  }
 ],
 "metadata": {
  "kernelspec": {
   "display_name": "semantique",
   "language": "python",
   "name": "python3"
  },
  "language_info": {
   "codemirror_mode": {
    "name": "ipython",
    "version": 3
   },
   "file_extension": ".py",
   "mimetype": "text/x-python",
   "name": "python",
   "nbconvert_exporter": "python",
   "pygments_lexer": "ipython3",
   "version": "3.10.16"
  }
 },
 "nbformat": 4,
 "nbformat_minor": 5
}
